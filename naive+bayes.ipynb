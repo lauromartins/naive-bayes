{
 "cells": [
  {
   "cell_type": "code",
   "execution_count": 17,
   "metadata": {},
   "outputs": [],
   "source": [
    "#Import Library of Gaussian Naive Bayes model\n",
    "from sklearn.naive_bayes import GaussianNB\n",
    "import numpy as np\n",
    "\n",
    "entradas, saidas = [], []\n",
    "\n",
    "with open('Desktop/dados.txt', 'r') as f:\n",
    "    for linha in f.readlines():\n",
    "        atrib = linha.replace('\\n', '').split(',')\n",
    "        entradas.append([int(atrib[0]), int(atrib[1]), int(atrib[2]), int(atrib[3])])\n",
    "        saidas.append(int(atrib[4]))"
   ]
  },
  {
   "cell_type": "code",
   "execution_count": 22,
   "metadata": {},
   "outputs": [
    {
     "name": "stdout",
     "output_type": "stream",
     "text": [
      "[0]\n"
     ]
    }
   ],
   "source": [
    "#Create a Gaussian Classifier\n",
    "model = GaussianNB()\n",
    "\n",
    "# Train the model using the training sets \n",
    "model.fit(entradas, saidas)\n",
    "\n",
    "#Predict Output \n",
    "predicted = model.predict([[1, 3, 1, 1]])\n",
    "print(predicted)"
   ]
  },
  {
   "cell_type": "code",
   "execution_count": 20,
   "metadata": {},
   "outputs": [
    {
     "data": {
      "text/plain": [
       "[[1, 3, 2, 0],\n",
       " [1, 3, 2, 1],\n",
       " [2, 1, 1, 1],\n",
       " [1, 2, 2, 0],\n",
       " [2, 2, 2, 1],\n",
       " [3, 3, 2, 0],\n",
       " [2, 2, 2, 0],\n",
       " [2, 1, 1, 0],\n",
       " [3, 1, 1, 1],\n",
       " [1, 1, 1, 0],\n",
       " [2, 2, 1, 0],\n",
       " [1, 2, 1, 1],\n",
       " [3, 2, 2, 1],\n",
       " [3, 3, 1, 0]]"
      ]
     },
     "execution_count": 20,
     "metadata": {},
     "output_type": "execute_result"
    }
   ],
   "source": [
    "entradas"
   ]
  },
  {
   "cell_type": "code",
   "execution_count": null,
   "metadata": {
    "collapsed": true
   },
   "outputs": [],
   "source": []
  }
 ],
 "metadata": {
  "kernelspec": {
   "display_name": "Python 3",
   "language": "python",
   "name": "python3"
  },
  "language_info": {
   "codemirror_mode": {
    "name": "ipython",
    "version": 3
   },
   "file_extension": ".py",
   "mimetype": "text/x-python",
   "name": "python",
   "nbconvert_exporter": "python",
   "pygments_lexer": "ipython3",
   "version": "3.6.1"
  }
 },
 "nbformat": 4,
 "nbformat_minor": 2
}
